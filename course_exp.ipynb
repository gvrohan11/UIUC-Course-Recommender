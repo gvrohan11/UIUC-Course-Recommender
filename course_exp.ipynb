{
 "cells": [
  {
   "cell_type": "code",
   "execution_count": 1,
   "metadata": {},
   "outputs": [
    {
     "ename": "ModuleNotFoundError",
     "evalue": "No module named 'xmltodict'",
     "output_type": "error",
     "traceback": [
      "\u001b[0;31m---------------------------------------------------------------------------\u001b[0m",
      "\u001b[0;31mModuleNotFoundError\u001b[0m                       Traceback (most recent call last)",
      "\u001b[1;32m/Users/rohan/cs222_real/course-project-group-99/course_exp.ipynb Cell 1\u001b[0m in \u001b[0;36m<module>\u001b[0;34m\u001b[0m\n\u001b[1;32m      <a href='vscode-notebook-cell:/Users/rohan/cs222_real/course-project-group-99/course_exp.ipynb#W0sZmlsZQ%3D%3D?line=0'>1</a>\u001b[0m \u001b[39mimport\u001b[39;00m \u001b[39mrequests\u001b[39;00m\n\u001b[1;32m      <a href='vscode-notebook-cell:/Users/rohan/cs222_real/course-project-group-99/course_exp.ipynb#W0sZmlsZQ%3D%3D?line=1'>2</a>\u001b[0m \u001b[39mimport\u001b[39;00m \u001b[39mpandas\u001b[39;00m \u001b[39mas\u001b[39;00m \u001b[39mpd\u001b[39;00m\n\u001b[0;32m----> <a href='vscode-notebook-cell:/Users/rohan/cs222_real/course-project-group-99/course_exp.ipynb#W0sZmlsZQ%3D%3D?line=2'>3</a>\u001b[0m \u001b[39mimport\u001b[39;00m \u001b[39mxmltodict\u001b[39;00m\n",
      "\u001b[0;31mModuleNotFoundError\u001b[0m: No module named 'xmltodict'"
     ]
    }
   ],
   "source": [
    "import requests\n",
    "import pandas as pd\n",
    "import xmltodict\n"
   ]
  },
  {
   "cell_type": "code",
   "execution_count": 2,
   "metadata": {},
   "outputs": [],
   "source": [
    "#Provides course description when provided with year, semester, course number.\n",
    "def getCourse(year, semester, subject, num):\n",
    "    r = requests.get(f'http://courses.illinois.edu/cisapp/explorer/catalog/{year}/{semester}/{subject}/{num}.xml')\n",
    "    dict_data = xmltodict.parse(r.text) #parses xml file into dictionary\n",
    "    #print(dict_data)\n",
    "    label, desc, credit, attributes = (dict_data['ns2:course']['label'], dict_data['ns2:course']['description'], dict_data['ns2:course']['creditHours'], dict_data['ns2:course']['sectionDegreeAttributes'])\n",
    "    return(f'{label}\\n{desc}\\n{credit}\\n{attributes}\\n')\n",
    "#returns course name, description, credit hours, gen-ed requirements"
   ]
  },
  {
   "cell_type": "code",
   "execution_count": 3,
   "metadata": {},
   "outputs": [
    {
     "name": "stdout",
     "output_type": "stream",
     "text": [
      "Intro Asian American Studies\n",
      "Interdisciplinary introduction to the basic concepts and approaches in Asian American Studies. Surveys the various dimensions of Asian American experiences including history, social organization, literature, arts, and politics.\n",
      "3 hours.\n",
      "UIUC Social Sciences, and US Minority Culture(s) course.\n",
      "\n"
     ]
    }
   ],
   "source": [
    "print(getCourse(2012, 'spring', 'AAS', 100))\n"
   ]
  },
  {
   "cell_type": "code",
   "execution_count": 4,
   "metadata": {},
   "outputs": [],
   "source": [
    "def addDF(df, dict_data):\n",
    "    if df.empty:\n",
    "        df = pd.DataFrame(columns=['Course Name', 'Description', 'Credit Hours', 'Gen-eds'])\n",
    "    df.loc[len(df.index)] = [(dict_data['ns2:course']['label'], dict_data['ns2:course']['description'], dict_data['ns2:course']['creditHours'], dict_data['ns2:course']['sectionDegreeAttributes'])]"
   ]
  },
  {
   "cell_type": "code",
   "execution_count": 11,
   "metadata": {},
   "outputs": [],
   "source": [
    "\n",
    "    all_courses = pd.read_excel(\"wade_course_data.xlsx\")\n",
    "\n",
    "    #Number of students (Including those with Authorized Withdraw)\n",
    "    all_courses['Number Students']= all_courses['A+'] + all_courses['A'] + all_courses['A-'] + all_courses['B+'] + all_courses['B'] + all_courses['B-']+ all_courses['C+']+ all_courses['C']+ all_courses['C-']+ all_courses['D+']+ all_courses['D'] +all_courses['D-'] + all_courses['F'] + all_courses['W']\n",
    "\n",
    "    #Average GPA Calculation (Subtracts student(s) with Authrorized Withdrawl)\n",
    "    all_courses['Average GPA'] = (4.0 * all_courses['A+'] + 4.0*all_courses['A'] + 3.67* all_courses['A-'] + 3.33*all_courses['B+'] + 3*all_courses['B'] + 2.67*all_courses['B-']+ 2.33*all_courses['C+']+ 2*all_courses['C']+ 1.67*all_courses['C-']+ 1.33*all_courses['D+']+ all_courses['D'] + 0.67* all_courses['D-'] + 0 *all_courses['F']) / (all_courses['Number Students'] - all_courses['W'])\n",
    "\n",
    "    all_courses\n",
    "\n",
    "    all_courses.to_csv(\"all_courses_gpa.csv\")"
   ]
  }
 ],
 "metadata": {
  "kernelspec": {
   "display_name": "Python 3.9.4 64-bit",
   "language": "python",
   "name": "python3"
  },
  "language_info": {
   "codemirror_mode": {
    "name": "ipython",
    "version": 3
   },
   "file_extension": ".py",
   "mimetype": "text/x-python",
   "name": "python",
   "nbconvert_exporter": "python",
   "pygments_lexer": "ipython3",
   "version": "3.9.4"
  },
  "orig_nbformat": 4,
  "vscode": {
   "interpreter": {
    "hash": "aee8b7b246df8f9039afb4144a1f6fd8d2ca17a180786b69acc140d282b71a49"
   }
  }
 },
 "nbformat": 4,
 "nbformat_minor": 2
}
